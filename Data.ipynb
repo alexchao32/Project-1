{
 "cells": [
  {
   "cell_type": "code",
   "execution_count": 1,
   "metadata": {},
   "outputs": [],
   "source": [
    "# Dependencies and Setup\n",
    "%matplotlib inline\n",
    "import matplotlib.pyplot as plt\n",
    "import pandas as pd\n",
    "import numpy as np\n",
    "\n",
    "# Hide warning messages in notebook\n",
    "import warnings\n",
    "warnings.filterwarnings('ignore')\n",
    "\n",
    "# File to Load (Remember to Change These)\n",
    "County_MedianListingPrice_AllHomes = \"County_MedianListingPrice_AllHomes.csv\"\n",
    "DaysOnZillow_County = \"DaysOnZillow_County.csv\"\n",
    "Sale_Counts_County = \"Sale_Counts_County.csv\"\n",
    "\n",
    "\n",
    "\n",
    "# Read the Mouse and Drug Data and the Clinical Trial Data\n",
    "Price = pd.read_csv(County_MedianListingPrice_AllHomes, encoding=\"ISO-8859-1\")\n",
    "Days = pd.read_csv(DaysOnZillow_County, encoding=\"ISO-8859-1\")\n",
    "Sale = pd.read_csv(Sale_Counts_County, encoding=\"ISO-8859-1\")\n",
    "\n",
    "\n",
    "\n",
    "Price = Price.dropna(how='all')\n",
    "Days = Days.dropna(how='all')\n",
    "Sale = Sale.dropna(how='all')\n",
    "\n"
   ]
  },
  {
   "cell_type": "code",
   "execution_count": 2,
   "metadata": {},
   "outputs": [],
   "source": [
    "#Remove Columns\n",
    "Sales = Sale.drop(labels=['RegionID','StateName','SizeRank','2008-03', '2008-04', '2008-05', '2008-06', '2008-07', \n",
    "                          '2008-08', '2008-09', '2008-10', '2008-11', '2008-12', '2009-01',\n",
    "                          '2009-02', '2009-03', '2009-04', '2009-05', '2009-06', '2009-07', \n",
    "                          '2009-08', '2009-09', '2009-10', '2009-11', '2009-12'], axis=1)\n",
    "\n",
    "Prices = Price.drop(labels=['State', 'Metro', 'StateCodeFIPS', 'MunicipalCodeFIPS','SizeRank'],axis=1) \n",
    "Days = Days.drop(labels=['SizeRank', 'RegionID', 'RegionType', 'StateName'],axis=1)\n",
    "\n",
    "#sale_.head(1)"
   ]
  },
  {
   "cell_type": "code",
   "execution_count": 3,
   "metadata": {},
   "outputs": [],
   "source": [
    "#Add extra column for each table\n",
    "\n",
    "Days['Type']='Day'\n",
    "Sales['Type']='Sale'\n",
    "Prices['Type']='Price'"
   ]
  },
  {
   "cell_type": "code",
   "execution_count": 4,
   "metadata": {},
   "outputs": [
    {
     "data": {
      "text/plain": [
       "(5919, 115)"
      ]
     },
     "execution_count": 4,
     "metadata": {},
     "output_type": "execute_result"
    }
   ],
   "source": [
    "# \n",
    "\n",
    "PD = Prices.append(Days, ignore_index=True)\n",
    "PDM = PD.append(Sales, ignore_index=True)\n",
    "PDM.shape\n",
    "\n",
    "\n",
    "\n"
   ]
  },
  {
   "cell_type": "code",
   "execution_count": 5,
   "metadata": {},
   "outputs": [],
   "source": [
    "#Merge two cells in one\n",
    "PDM[\"County\"] = PDM[\"RegionName\"].map(str) + PDM[\"Type\"]"
   ]
  },
  {
   "cell_type": "code",
   "execution_count": 6,
   "metadata": {},
   "outputs": [
    {
     "data": {
      "text/html": [
       "<div>\n",
       "<style scoped>\n",
       "    .dataframe tbody tr th:only-of-type {\n",
       "        vertical-align: middle;\n",
       "    }\n",
       "\n",
       "    .dataframe tbody tr th {\n",
       "        vertical-align: top;\n",
       "    }\n",
       "\n",
       "    .dataframe thead th {\n",
       "        text-align: right;\n",
       "    }\n",
       "</style>\n",
       "<table border=\"1\" class=\"dataframe\">\n",
       "  <thead>\n",
       "    <tr style=\"text-align: right;\">\n",
       "      <th>County</th>\n",
       "      <th>Los Angeles CountyPrice</th>\n",
       "      <th>Cook CountyPrice</th>\n",
       "      <th>Harris CountyPrice</th>\n",
       "      <th>Maricopa CountyPrice</th>\n",
       "      <th>San Diego CountyPrice</th>\n",
       "      <th>Orange CountyPrice</th>\n",
       "      <th>Kings CountyPrice</th>\n",
       "      <th>Miami-Dade CountyPrice</th>\n",
       "      <th>Dallas CountyPrice</th>\n",
       "      <th>Queens CountyPrice</th>\n",
       "      <th>...</th>\n",
       "      <th>Mineral CountySale</th>\n",
       "      <th>McMullen CountySale</th>\n",
       "      <th>San Juan CountySale</th>\n",
       "      <th>Banner CountySale</th>\n",
       "      <th>Yakutat BoroughSale</th>\n",
       "      <th>Thomas CountySale</th>\n",
       "      <th>McPherson CountySale</th>\n",
       "      <th>Petroleum CountySale</th>\n",
       "      <th>Blaine CountySale</th>\n",
       "      <th>Kenedy CountySale</th>\n",
       "    </tr>\n",
       "  </thead>\n",
       "  <tbody>\n",
       "    <tr>\n",
       "      <th>2010-01</th>\n",
       "      <td>399000</td>\n",
       "      <td>244900</td>\n",
       "      <td>149900</td>\n",
       "      <td>179900</td>\n",
       "      <td>399000</td>\n",
       "      <td>550000</td>\n",
       "      <td>459000</td>\n",
       "      <td>NaN</td>\n",
       "      <td>159900</td>\n",
       "      <td>409000</td>\n",
       "      <td>...</td>\n",
       "      <td>0</td>\n",
       "      <td>0</td>\n",
       "      <td>0</td>\n",
       "      <td>0</td>\n",
       "      <td>0</td>\n",
       "      <td>0</td>\n",
       "      <td>0</td>\n",
       "      <td>0</td>\n",
       "      <td>0</td>\n",
       "      <td>0</td>\n",
       "    </tr>\n",
       "  </tbody>\n",
       "</table>\n",
       "<p>1 rows × 5919 columns</p>\n",
       "</div>"
      ],
      "text/plain": [
       "County  Los Angeles CountyPrice Cook CountyPrice Harris CountyPrice  \\\n",
       "2010-01                  399000           244900             149900   \n",
       "\n",
       "County  Maricopa CountyPrice San Diego CountyPrice Orange CountyPrice  \\\n",
       "2010-01               179900                399000             550000   \n",
       "\n",
       "County  Kings CountyPrice Miami-Dade CountyPrice Dallas CountyPrice  \\\n",
       "2010-01            459000                    NaN             159900   \n",
       "\n",
       "County  Queens CountyPrice  ... Mineral CountySale McMullen CountySale  \\\n",
       "2010-01             409000  ...                  0                   0   \n",
       "\n",
       "County  San Juan CountySale Banner CountySale Yakutat BoroughSale  \\\n",
       "2010-01                   0                 0                   0   \n",
       "\n",
       "County  Thomas CountySale McPherson CountySale Petroleum CountySale  \\\n",
       "2010-01                 0                    0                    0   \n",
       "\n",
       "County  Blaine CountySale Kenedy CountySale  \n",
       "2010-01                 0                 0  \n",
       "\n",
       "[1 rows x 5919 columns]"
      ]
     },
     "execution_count": 6,
     "metadata": {},
     "output_type": "execute_result"
    }
   ],
   "source": [
    "#tanspose table\n",
    "PDM.set_index(['County'],inplace=True)\n",
    "PDM_ = PDM.transpose()\n",
    "\n",
    "\n",
    "PDM_.head(1)"
   ]
  },
  {
   "cell_type": "code",
   "execution_count": 7,
   "metadata": {},
   "outputs": [],
   "source": [
    "PDM_ = PDM_.convert_objects(convert_numeric=True)"
   ]
  },
  {
   "cell_type": "code",
   "execution_count": 10,
   "metadata": {},
   "outputs": [
    {
     "data": {
      "text/html": [
       "<div>\n",
       "<style scoped>\n",
       "    .dataframe tbody tr th:only-of-type {\n",
       "        vertical-align: middle;\n",
       "    }\n",
       "\n",
       "    .dataframe tbody tr th {\n",
       "        vertical-align: top;\n",
       "    }\n",
       "\n",
       "    .dataframe thead th {\n",
       "        text-align: right;\n",
       "    }\n",
       "</style>\n",
       "<table border=\"1\" class=\"dataframe\">\n",
       "  <thead>\n",
       "    <tr style=\"text-align: right;\">\n",
       "      <th>County</th>\n",
       "      <th>Los Angeles CountyPrice</th>\n",
       "      <th>Los Angeles CountyDay</th>\n",
       "      <th>Los Angeles CountySale</th>\n",
       "    </tr>\n",
       "  </thead>\n",
       "  <tbody>\n",
       "    <tr>\n",
       "      <th>2010-01</th>\n",
       "      <td>399000.0</td>\n",
       "      <td>117.0</td>\n",
       "      <td>4882.0</td>\n",
       "    </tr>\n",
       "    <tr>\n",
       "      <th>2010-02</th>\n",
       "      <td>389000.0</td>\n",
       "      <td>125.0</td>\n",
       "      <td>5168.0</td>\n",
       "    </tr>\n",
       "    <tr>\n",
       "      <th>2010-03</th>\n",
       "      <td>399000.0</td>\n",
       "      <td>116.0</td>\n",
       "      <td>6889.0</td>\n",
       "    </tr>\n",
       "  </tbody>\n",
       "</table>\n",
       "</div>"
      ],
      "text/plain": [
       "County   Los Angeles CountyPrice  Los Angeles CountyDay  \\\n",
       "2010-01                 399000.0                  117.0   \n",
       "2010-02                 389000.0                  125.0   \n",
       "2010-03                 399000.0                  116.0   \n",
       "\n",
       "County   Los Angeles CountySale  \n",
       "2010-01                  4882.0  \n",
       "2010-02                  5168.0  \n",
       "2010-03                  6889.0  "
      ]
     },
     "execution_count": 10,
     "metadata": {},
     "output_type": "execute_result"
    }
   ],
   "source": [
    "### PDM.shape\n",
    "found=[\"Los Angeles\" in column for column in PDM_.columns]\n",
    "indexes=[i for i,x in enumerate(found) if x]\n",
    "indexes\n",
    "\n",
    "Subset_LA=PDM_.iloc[:,[0, 2248, 3247]]\n",
    "Subset_LA.head(3)"
   ]
  },
  {
   "cell_type": "code",
   "execution_count": 113,
   "metadata": {},
   "outputs": [
    {
     "data": {
      "text/plain": [
       "County\n",
       "Los Angeles CountyPrice    float64\n",
       "Los Angeles CountyDay      float64\n",
       "Los Angeles CountySale     float64\n",
       "dtype: object"
      ]
     },
     "execution_count": 113,
     "metadata": {},
     "output_type": "execute_result"
    }
   ],
   "source": [
    "# Subset_LA['Los Angeles CountyPrice'] = Subset_LA['Los Angeles CountyPrice'].convert_objects(convert_numeric=True)\n",
    "# Subset_LA['Los Angeles CountyDay'] = Subset_LA['Los Angeles CountyDay'].convert_objects(convert_numeric=True)\n",
    "# Subset_LA['Los Angeles CountySale'] = Subset_LA['Los Angeles CountySale'].convert_objects(convert_numeric=True)\n",
    "Subset_LA.dtypes"
   ]
  },
  {
   "cell_type": "code",
   "execution_count": 114,
   "metadata": {},
   "outputs": [
    {
     "data": {
      "image/png": "[encoded data removed]",
      "text/plain": [
       "<Figure size 792x648 with 3 Axes>"
      ]
     },
     "metadata": {
      "needs_background": "light"
     },
     "output_type": "display_data"
    }
   ],
   "source": [
    "#Subset_LA['Los Angeles CountyPrice'] = Subset_LA['Los Angeles CountyPrice'].astype(float)\n",
    "cols_plot = ['Los Angeles CountyPrice', 'Los Angeles CountyDay', 'Los Angeles CountySale']\n",
    "axes = Subset_LA[cols_plot].plot(marker='.', alpha=0.5, linestyle='None', figsize=(11, 9), subplots=True)\n",
    "for ax in axes:\n",
    "    ax.set_ylabel('Daily Totals (GWh)')"
   ]
  },
  {
   "cell_type": "code",
   "execution_count": 2,
   "metadata": {},
   "outputs": [
    {
     "ename": "ModuleNotFoundError",
     "evalue": "No module named 'seaborn'",
     "output_type": "error",
     "traceback": [
      "\u001b[1;31m---------------------------------------------------------------------------\u001b[0m",
      "\u001b[1;31mModuleNotFoundError\u001b[0m                       Traceback (most recent call last)",
      "\u001b[1;32m<ipython-input-2-208dd518c0a2>\u001b[0m in \u001b[0;36m<module>\u001b[1;34m\u001b[0m\n\u001b[1;32m----> 1\u001b[1;33m \u001b[1;32mimport\u001b[0m \u001b[0mseaborn\u001b[0m \u001b[1;32mas\u001b[0m \u001b[0msns\u001b[0m\u001b[1;33m\u001b[0m\u001b[1;33m\u001b[0m\u001b[0m\n\u001b[0m\u001b[0;32m      2\u001b[0m \u001b[1;31m#pip install seaborn\u001b[0m\u001b[1;33m\u001b[0m\u001b[1;33m\u001b[0m\u001b[1;33m\u001b[0m\u001b[0m\n\u001b[0;32m      3\u001b[0m \u001b[1;31m#conda install seaborn\u001b[0m\u001b[1;33m\u001b[0m\u001b[1;33m\u001b[0m\u001b[1;33m\u001b[0m\u001b[0m\n",
      "\u001b[1;31mModuleNotFoundError\u001b[0m: No module named 'seaborn'"
     ]
    }
   ],
   "source": [
    "import seaborn as sns\n",
    "#pip install seaborn\n",
    "#conda install seaborn"
   ]
  },
  {
   "cell_type": "code",
   "execution_count": 122,
   "metadata": {},
   "outputs": [
    {
     "ename": "IndentationError",
     "evalue": "expected an indented block (<ipython-input-122-c7e4c370c00f>, line 3)",
     "output_type": "error",
     "traceback": [
      "\u001b[1;36m  File \u001b[1;32m\"<ipython-input-122-c7e4c370c00f>\"\u001b[1;36m, line \u001b[1;32m3\u001b[0m\n\u001b[1;33m    sns.boxplot(data=opsd_daily, x='Month', y=name, ax=ax)\u001b[0m\n\u001b[1;37m      ^\u001b[0m\n\u001b[1;31mIndentationError\u001b[0m\u001b[1;31m:\u001b[0m expected an indented block\n"
     ]
    }
   ],
   "source": [
    "fig, axes = plt.subplots(3, 1, figsize=(11, 10), sharex=True)\n",
    "for name, ax in cols_plot(['Consumption', 'Solar', 'Wind'], axes):\n",
    "sns.boxplot(data=opsd_daily, x='Month', y=name, ax=ax)\n",
    "ax.set_ylabel('GWh')\n",
    "ax.set_title(name)\n",
    "# Remove the automatic x-axis label from all but the bottom subplot\n",
    "if ax != axes[-1]:\n",
    "ax.set_xlabel('')\n"
   ]
  },
  {
   "cell_type": "code",
   "execution_count": 103,
   "metadata": {},
   "outputs": [],
   "source": [
    "\n",
    "# x=[PDM_.index.values\n",
    "# y=Subset_LA['Los Angeles CountyPrice']\n",
    "# plt.plot(x,y)\n",
    "# plt.show()"
   ]
  },
  {
   "cell_type": "code",
   "execution_count": 50,
   "metadata": {},
   "outputs": [],
   "source": [
    "# M_table = Sales.merge(Prices, on=['RegionName'], suffixes=(' Sale', ' Price'))\n",
    "# M_table = M_table.merge(Days, on=['RegionName'], suffixes=('Days', ''))\n",
    "\n",
    "\n",
    "# columnnames = Days.columns.tolist()\n",
    "# for col in columnnames:\n",
    "#     if col != \"RegionName\":\n",
    "#         M_table = M_table.rename(columns={col: f\"{col} Day\"})\n",
    "        \n",
    "# M_table.head(5)"
   ]
  }
 ],
 "metadata": {
  "kernelspec": {
   "display_name": "Python 3",
   "language": "python",
   "name": "python3"
  },
  "language_info": {
   "codemirror_mode": {
    "name": "ipython",
    "version": 3
   },
   "file_extension": ".py",
   "mimetype": "text/x-python",
   "name": "python",
   "nbconvert_exporter": "python",
   "pygments_lexer": "ipython3",
   "version": "3.6.8"
  }
 },
 "nbformat": 4,
 "nbformat_minor": 2
}
